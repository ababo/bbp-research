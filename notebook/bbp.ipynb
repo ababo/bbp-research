{
 "cells": [
  {
   "cell_type": "code",
   "execution_count": 10,
   "metadata": {},
   "outputs": [],
   "source": [
    "import os\n",
    "import sys\n",
    "\n",
    "sys.path.append(os.path.abspath(\"../src\"))"
   ]
  },
  {
   "cell_type": "code",
   "execution_count": null,
   "metadata": {},
   "outputs": [],
   "source": [
    "import torch\n",
    "\n",
    "\n",
    "def bool_matmul(a, b):\n",
    "    a = a.to(torch.uint8)\n",
    "    b = b.to(torch.uint8)\n",
    "    c = a @ b\n",
    "    return c.to(torch.bool)"
   ]
  },
  {
   "cell_type": "markdown",
   "metadata": {},
   "source": [
    "Sign of derivative can be derived from the weight value, so boolean results are enough."
   ]
  },
  {
   "cell_type": "code",
   "execution_count": null,
   "metadata": {},
   "outputs": [],
   "source": [
    "def nor_and_eval(weights, inputs):\n",
    "    weights = weights.to(torch.int32)\n",
    "    inputs = inputs.to(torch.int32)\n",
    "    or_and = (weights @ inputs).to(torch.bool)\n",
    "    return ~or_and\n",
    "\n",
    "\n",
    "def nor_and_grad(weights, inputs):\n",
    "    weights = weights.to(torch.int32)\n",
    "    inputs = inputs.transpose(-1, -2)\n",
    "    prods = weights * inputs.to(torch.int32)\n",
    "    residues = prods.sum(dim=1, keepdim=True) - prods\n",
    "    return (~residues.to(torch.bool) & inputs).to(torch.bool)"
   ]
  },
  {
   "cell_type": "code",
   "execution_count": null,
   "metadata": {},
   "outputs": [
    {
     "data": {
      "text/plain": [
       "tensor([[False,  True],\n",
       "        [ True, False]])"
      ]
     },
     "execution_count": 3,
     "metadata": {},
     "output_type": "execute_result"
    }
   ],
   "source": [
    "_weights = torch.tensor([[False, True], [True, False]], dtype=torch.bool)\n",
    "inputs = torch.tensor([[True], [True]], dtype=torch.bool)\n",
    "nor_and_eval(_weights, inputs)\n",
    "nor_and_grad(_weights, inputs)"
   ]
  },
  {
   "cell_type": "code",
   "execution_count": null,
   "metadata": {},
   "outputs": [],
   "source": [
    "class NorAndLinear:\n",
    "    def __init__(self, weights):\n",
    "        self._weights = weights\n",
    "\n",
    "    def eval(self, inputs):\n",
    "        weights = self._weights.to(torch.int32)\n",
    "        inputs = inputs.to(torch.int32)\n",
    "        or_and = (weights @ inputs).to(torch.bool)\n",
    "        return ~or_and\n",
    "\n",
    "    def grad(self, inputs):\n",
    "        weights = self._weights.to(torch.int32)\n",
    "        inputs = inputs.transpose(-1, -2)\n",
    "        prods = weights * inputs.to(torch.int32)\n",
    "        residues = prods.sum(dim=1, keepdim=True) - prods\n",
    "        return (~residues.to(torch.bool) & inputs).to(torch.bool)"
   ]
  }
 ],
 "metadata": {
  "kernelspec": {
   "display_name": "default",
   "language": "python",
   "name": "python3"
  },
  "language_info": {
   "codemirror_mode": {
    "name": "ipython",
    "version": 3
   },
   "file_extension": ".py",
   "mimetype": "text/x-python",
   "name": "python",
   "nbconvert_exporter": "python",
   "pygments_lexer": "ipython3",
   "version": "3.13.1"
  }
 },
 "nbformat": 4,
 "nbformat_minor": 2
}
