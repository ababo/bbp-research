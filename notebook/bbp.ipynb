{
 "cells": [
  {
   "cell_type": "code",
   "execution_count": 2,
   "metadata": {},
   "outputs": [],
   "source": [
    "import os\n",
    "import sys\n",
    "\n",
    "sys.path.append(os.path.abspath(\"../src\"))"
   ]
  },
  {
   "cell_type": "code",
   "execution_count": null,
   "metadata": {},
   "outputs": [],
   "source": [
    "import torch\n",
    "\n",
    "\n",
    "def bool_matmul(a, b):\n",
    "    a = a.to(torch.uint8)\n",
    "    b = b.to(torch.uint8)\n",
    "    c = a @ b\n",
    "    return c.to(torch.bool)"
   ]
  },
  {
   "cell_type": "markdown",
   "metadata": {},
   "source": [
    "Sign of derivative can be derived from the weight value, so boolean results are enough."
   ]
  },
  {
   "cell_type": "code",
   "execution_count": null,
   "metadata": {},
   "outputs": [],
   "source": [
    "def nor_and_eval(weights, inputs):\n",
    "    weights = weights.to(torch.int32)\n",
    "    inputs = inputs.to(torch.int32)\n",
    "    or_and = (weights @ inputs).to(torch.bool)\n",
    "    return ~or_and\n",
    "\n",
    "\n",
    "def nor_and_grad(weights, inputs):\n",
    "    weights = weights.to(torch.int32)\n",
    "    inputs = inputs.transpose(-1, -2)\n",
    "    prods = weights * inputs.to(torch.int32)\n",
    "    residues = prods.sum(dim=1, keepdim=True) - prods\n",
    "    return (~residues.to(torch.bool) & inputs).to(torch.bool)"
   ]
  },
  {
   "cell_type": "code",
   "execution_count": null,
   "metadata": {},
   "outputs": [
    {
     "data": {
      "text/plain": [
       "tensor([[False,  True],\n",
       "        [ True, False]])"
      ]
     },
     "execution_count": 3,
     "metadata": {},
     "output_type": "execute_result"
    }
   ],
   "source": [
    "_weights = torch.tensor([[False, True], [True, False]], dtype=torch.bool)\n",
    "inputs = torch.tensor([[True], [True]], dtype=torch.bool)\n",
    "nor_and_eval(_weights, inputs)\n",
    "nor_and_grad(_weights, inputs)"
   ]
  },
  {
   "cell_type": "code",
   "execution_count": null,
   "metadata": {},
   "outputs": [],
   "source": [
    "class NorAndLinear:\n",
    "    def __init__(self, weights):\n",
    "        self._weights = weights\n",
    "\n",
    "    def eval(self, inputs):\n",
    "        weights = self._weights.to(torch.int32)\n",
    "        inputs = inputs.to(torch.int32)\n",
    "        or_and = (weights @ inputs).to(torch.bool)\n",
    "        return ~or_and\n",
    "\n",
    "    def grad(self, inputs):\n",
    "        weights = self._weights.to(torch.int32)\n",
    "        inputs = inputs.transpose(-1, -2)\n",
    "        prods = weights * inputs.to(torch.int32)\n",
    "        residues = prods.sum(dim=1, keepdim=True) - prods\n",
    "        return (~residues.to(torch.bool) & inputs).to(torch.bool)"
   ]
  },
  {
   "cell_type": "code",
   "execution_count": 3,
   "metadata": {},
   "outputs": [
    {
     "name": "stdout",
     "output_type": "stream",
     "text": [
      "[['01000011001101110100100010011000']\n",
      " ['01110000101011011000000110001000']\n",
      " ['00011100010000011100100110001011']\n",
      " ['01100000000011010111010010011000']\n",
      " ['01000101011100000111001011110110']\n",
      " ['00100000011010111001110100101011']\n",
      " ['00010100100110101010111101000101']\n",
      " ['01001010001000011001001101001000']\n",
      " ['00111110101101110100100100101100']\n",
      " ['00111000100101101001100111011111']\n",
      " ['01111010110001111011101010110100']\n",
      " ['01010111010010011001000001000111']\n",
      " ['00000000101101000011111000011001']\n",
      " ['01101100100101011010011011010001']\n",
      " ['01000110000001101011101010110111']\n",
      " ['01101101001100010100101100100000']\n",
      " ['00000110110000011111000000010000']\n",
      " ['00001000011111100000101111001101']\n",
      " ['00001001100000100001100010010001']\n",
      " ['01111000111011001001000000000101']\n",
      " ['01000100100111110001110011011000']\n",
      " ['01001001111100000000101001000000']\n",
      " ['01100100111001010100111110010000']\n",
      " ['00110000000011110011010111100101']\n",
      " ['00001010100101010000010101101011']\n",
      " ['00101011000010011101001101110100']\n",
      " ['01111111011010011000010111010110']\n",
      " ['01111000010111001001111001101010']\n",
      " ['01010110100001111111100011001110']\n",
      " ['01011101011111011111000011010001']\n",
      " ['00100111101011001111011100011111']\n",
      " ['01010000110001101100011101000111']]\n",
      "[['00000000000000000000000000000000']\n",
      " ['11011001001101110001111000111101']\n",
      " ['01010100111001010001001101110010']\n",
      " ['01100010111100000001000100111101']\n",
      " ['00100001111001010111010011110100']\n",
      " ['00101010100101111000101000101110']\n",
      " ['10000001101100101000000011101010']\n",
      " ['10001000000100010010010001100110']\n",
      " ['01000010111011001011111010001011']\n",
      " ['00101100001100001101011000110101']\n",
      " ['11001101100010010101011000100110']\n",
      " ['10001010110011010100110010010100']\n",
      " ['01010110000100000101100101110110']\n",
      " ['11010000111011100101101110011111']\n",
      " ['10000110111000100110100100001001']\n",
      " ['11110101101101011000101111101100']\n",
      " ['01100111011101101001000001111111']\n",
      " ['10111000100000011000001001001111']\n",
      " ['00011010001011101000000100001110']\n",
      " ['00011101011110101011100101011110']\n",
      " ['10100110111010110110111000011000']\n",
      " ['00010110000011000000101110110011']\n",
      " ['00001011001011110100011001010011']\n",
      " ['01100111110000010100001111100011']\n",
      " ['11111000011001100110101100101100']\n",
      " ['00001011010101000100110111111101']\n",
      " ['00001100101000110000000111010000']\n",
      " ['10011000011011101010101001100110']\n",
      " ['11110101110010000100100010011010']\n",
      " ['00001010111100100101000101101011']\n",
      " ['00101100010100100000000010111011']\n",
      " ['00100110010111100111000110000111']]\n"
     ]
    }
   ],
   "source": [
    "import torch\n",
    "import bitwise\n",
    "\n",
    "\n",
    "def transpose_bitpacked_32x1(matrix):\n",
    "    \"\"\" Transposes a 32x1 bit-packed int32 matrix while maintaining correct bit order. \"\"\"\n",
    "    assert matrix.shape == (32,), \"Input must be a 32-element tensor of int32\"\n",
    "\n",
    "    # Ensure matrix is int32\n",
    "    matrix = matrix.to(torch.int32)\n",
    "\n",
    "    # Generate bit masks safely within int32 limits\n",
    "    bit_masks = (1 << torch.arange(32, dtype=torch.int64, device=matrix.device)).to(torch.int32)\n",
    "\n",
    "    # Extract bits into a (32, 32) binary matrix\n",
    "    bits = ((matrix.view(32, 1) & bit_masks) != 0).to(torch.int32)  # Shape (32, 32)\n",
    "\n",
    "    # Transpose the bit matrix\n",
    "    bits_T = bits.t()  # Shape (32, 32)\n",
    "\n",
    "    # **Fix: Reverse both rows & columns to correct bit ordering**\n",
    "    bits_T = torch.flip(bits_T, dims=[0, 1])  # Fix row and column flipping\n",
    "\n",
    "    # Repack into int32 format (preserving column order correctly)\n",
    "    transposed_matrix = torch.sum(bits_T * bit_masks, dim=1).to(torch.int32)\n",
    "\n",
    "    return transposed_matrix\n",
    "\n",
    "\n",
    "\n",
    "# Corrected random bit-packed matrix\n",
    "matrix = torch.randint(0, 2**31, (32,), dtype=torch.int32)  # Ensure within int32 range\n",
    "transposed = transpose_bitpacked_32x1(matrix)\n",
    "print(bitwise.to_str(matrix.reshape(32,1,1)))\n",
    "print(bitwise.to_str(transposed.reshape(32,1,1)))"
   ]
  },
  {
   "cell_type": "code",
   "execution_count": null,
   "metadata": {},
   "outputs": [],
   "source": []
  }
 ],
 "metadata": {
  "kernelspec": {
   "display_name": "default",
   "language": "python",
   "name": "python3"
  },
  "language_info": {
   "codemirror_mode": {
    "name": "ipython",
    "version": 3
   },
   "file_extension": ".py",
   "mimetype": "text/x-python",
   "name": "python",
   "nbconvert_exporter": "python",
   "pygments_lexer": "ipython3",
   "version": "3.13.1"
  }
 },
 "nbformat": 4,
 "nbformat_minor": 2
}
