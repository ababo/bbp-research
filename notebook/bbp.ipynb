{
 "cells": [
  {
   "cell_type": "code",
   "execution_count": null,
   "metadata": {},
   "outputs": [],
   "source": [
    "import os\n",
    "import sys\n",
    "\n",
    "sys.path.append(os.path.abspath(\"../src\"))"
   ]
  },
  {
   "cell_type": "code",
   "execution_count": null,
   "metadata": {},
   "outputs": [],
   "source": [
    "import torch\n",
    "\n",
    "\n",
    "def bool_matmul(a, b):\n",
    "    a = a.to(torch.uint8)\n",
    "    b = b.to(torch.uint8)\n",
    "    c = a @ b\n",
    "    return c.to(torch.bool)"
   ]
  },
  {
   "cell_type": "markdown",
   "metadata": {},
   "source": [
    "Sign of derivative can be derived from the weight value, so boolean results are enough."
   ]
  },
  {
   "cell_type": "code",
   "execution_count": null,
   "metadata": {},
   "outputs": [],
   "source": [
    "def nor_and_eval(weights, inputs):\n",
    "    weights = weights.to(torch.int32)\n",
    "    inputs = inputs.to(torch.int32)\n",
    "    or_and = (weights @ inputs).to(torch.bool)\n",
    "    return ~or_and\n",
    "\n",
    "\n",
    "def nor_and_grad(weights, inputs):\n",
    "    weights = weights.to(torch.int32)\n",
    "    inputs = inputs.transpose(-1, -2)\n",
    "    prods = weights * inputs.to(torch.int32)\n",
    "    residues = prods.sum(dim=1, keepdim=True) - prods\n",
    "    return (~residues.to(torch.bool) & inputs).to(torch.bool)"
   ]
  },
  {
   "cell_type": "code",
   "execution_count": null,
   "metadata": {},
   "outputs": [
    {
     "data": {
      "text/plain": [
       "tensor([[False,  True],\n",
       "        [ True, False]])"
      ]
     },
     "execution_count": 3,
     "metadata": {},
     "output_type": "execute_result"
    }
   ],
   "source": [
    "_weights = torch.tensor([[False, True], [True, False]], dtype=torch.bool)\n",
    "inputs = torch.tensor([[True], [True]], dtype=torch.bool)\n",
    "nor_and_eval(_weights, inputs)\n",
    "nor_and_grad(_weights, inputs)"
   ]
  },
  {
   "cell_type": "code",
   "execution_count": null,
   "metadata": {},
   "outputs": [],
   "source": [
    "class NorAndLinear:\n",
    "    def __init__(self, weights):\n",
    "        self._weights = weights\n",
    "\n",
    "    def eval(self, inputs):\n",
    "        weights = self._weights.to(torch.int32)\n",
    "        inputs = inputs.to(torch.int32)\n",
    "        or_and = (weights @ inputs).to(torch.bool)\n",
    "        return ~or_and\n",
    "\n",
    "    def grad(self, inputs):\n",
    "        weights = self._weights.to(torch.int32)\n",
    "        inputs = inputs.transpose(-1, -2)\n",
    "        prods = weights * inputs.to(torch.int32)\n",
    "        residues = prods.sum(dim=1, keepdim=True) - prods\n",
    "        return (~residues.to(torch.bool) & inputs).to(torch.bool)"
   ]
  },
  {
   "cell_type": "code",
   "execution_count": 2,
   "metadata": {},
   "outputs": [
    {
     "name": "stdout",
     "output_type": "stream",
     "text": [
      "tensor([[1, 0, 1]], dtype=torch.uint32)\n"
     ]
    }
   ],
   "source": [
    "import torch\n",
    "\n",
    "# Example tensor\n",
    "x = torch.tensor([[0, 0, 3], [0, 0, 0], [4, 0, 0]], dtype=torch.uint32)\n",
    "\n",
    "# Compute the row-wise check\n",
    "result = (x.any(dim=1, keepdim=True)).to(torch.uint32).T  # (n, 1) -> (1, n)\n",
    "\n",
    "print(result)"
   ]
  },
  {
   "cell_type": "code",
   "execution_count": null,
   "metadata": {},
   "outputs": [
    {
     "name": "stdout",
     "output_type": "stream",
     "text": [
      "tensor([[0],\n",
      "        [0],\n",
      "        [1],\n",
      "        [1]], dtype=torch.uint32)\n"
     ]
    }
   ],
   "source": [
    "import torch\n",
    "\n",
    "# Example tensor\n",
    "x = torch.tensor([[0, 0, 0], [0, 0, 0], [1, 2, 3], [4, 0, 0]], dtype=torch.uint32)\n",
    "\n",
    "# Compute the row-wise check\n",
    "result = x.any(dim=1, keepdim=True).to(torch.uint32)  # Shape (n, 1)\n",
    "\n",
    "print(result)"
   ]
  },
  {
   "cell_type": "code",
   "execution_count": null,
   "metadata": {},
   "outputs": [
    {
     "data": {
      "text/plain": [
       "<module 'bitwise' from '/Users/simongolbert/Desktop/research/src/bitwise/__init__.py'>"
      ]
     },
     "execution_count": 3,
     "metadata": {},
     "output_type": "execute_result"
    }
   ],
   "source": [
    "import bitwise\n",
    "\n",
    "import importlib\n",
    "\n",
    "importlib.reload(bitwise)"
   ]
  },
  {
   "cell_type": "code",
   "execution_count": 10,
   "metadata": {},
   "outputs": [
    {
     "data": {
      "text/plain": [
       "tensor([[[3221225472]]], dtype=torch.uint32)"
      ]
     },
     "execution_count": 10,
     "metadata": {},
     "output_type": "execute_result"
    }
   ],
   "source": [
    "import bitwise\n",
    "\n",
    "\n",
    "bitwise.tensor([[\"110\"]])._data"
   ]
  },
  {
   "cell_type": "code",
   "execution_count": null,
   "metadata": {},
   "outputs": [],
   "source": []
  }
 ],
 "metadata": {
  "kernelspec": {
   "display_name": "default",
   "language": "python",
   "name": "python3"
  },
  "language_info": {
   "codemirror_mode": {
    "name": "ipython",
    "version": 3
   },
   "file_extension": ".py",
   "mimetype": "text/x-python",
   "name": "python",
   "nbconvert_exporter": "python",
   "pygments_lexer": "ipython3",
   "version": "3.13.1"
  }
 },
 "nbformat": 4,
 "nbformat_minor": 2
}
