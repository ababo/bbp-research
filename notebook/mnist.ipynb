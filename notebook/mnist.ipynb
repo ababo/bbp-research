{
 "cells": [
  {
   "cell_type": "code",
   "execution_count": 47,
   "metadata": {},
   "outputs": [],
   "source": [
    "import numpy as np\n",
    "from pathlib import Path\n",
    "import torch\n",
    "\n",
    "\n",
    "def read_mnist_images(filename: Path, device: str = \"cpu\") -> torch.Tensor:\n",
    "    with open(filename, \"rb\") as f:\n",
    "        _, num_images, rows, cols = np.frombuffer(f.read(16), dtype=\">u4\")  # Big-endian\n",
    "        images = np.frombuffer(f.read(), dtype=np.uint8).reshape(num_images, rows, cols)\n",
    "    return torch.tensor(images, device=device)\n",
    "\n",
    "\n",
    "def read_mnist_labels(filename: Path, device: str = \"str\") -> torch.Tensor:\n",
    "    with open(filename, \"rb\") as f:\n",
    "        _, _ = np.frombuffer(f.read(8), dtype=\">u4\")  # Big-endian\n",
    "        labels = np.frombuffer(f.read(), dtype=np.uint8)  # Labels are 1-byte each\n",
    "    return torch.tensor(labels, device=device)\n",
    "\n",
    "\n",
    "mnist, device = Path.home() / \"Downloads\" / \"mnist\", \"mps\"\n",
    "train_images = read_mnist_images(mnist / \"train-images.idx3-ubyte\", device=device)\n",
    "train_labels = read_mnist_labels(mnist / \"train-labels.idx1-ubyte\", device=device)\n",
    "test_images = read_mnist_images(mnist / \"t10k-images.idx3-ubyte\", device=device)\n",
    "test_labels = read_mnist_labels(mnist / \"t10k-labels.idx1-ubyte\", device=device)\n"
   ]
  },
  {
   "cell_type": "code",
   "execution_count": 48,
   "metadata": {},
   "outputs": [],
   "source": [
    "import os\n",
    "import sys\n",
    "\n",
    "sys.path.append(os.path.abspath(\"../src\"))\n",
    "\n",
    "import bitwise\n",
    "from bitwise import bp\n",
    "import torch\n",
    "from typing import List\n",
    "\n",
    "\n",
    "class DigitRecognizer:\n",
    "    _layers: List[bp.Layer]\n",
    "\n",
    "    def __init__(self, layers: List[bp.Layer], device=\"cpu\"):\n",
    "        self._layers = layers\n",
    "\n",
    "    def eval(self, images: torch.Tensor) -> bitwise.Tensor:\n",
    "        batch_size = images.shape[0]\n",
    "        outputs = images.view(torch.int32).view(batch_size, 1, 196)\n",
    "        for layer in self._layers:\n",
    "            outputs = layer.eval(outputs)\n",
    "        return outputs\n",
    "\n",
    "\n",
    "def random_digit_recognizer(device=\"cpu\") -> DigitRecognizer:\n",
    "    layers = []\n",
    "\n",
    "    dims = [196, 128, 64, 32, 10]\n",
    "    for ins, outs in list(zip(dims, dims[1:])):\n",
    "        weights = torch.randint(0, 2**32, (outs * 32, ins), device=device).to(\n",
    "            dtype=torch.int32\n",
    "        )\n",
    "        bias = torch.randint(0, 2**32, (1, outs), device=device).to(dtype=torch.int32)\n",
    "        layer = bp.Layer(weights, bias, train=True)\n",
    "        layers.append(layer)\n",
    "\n",
    "    return DigitRecognizer(layers)\n",
    "\n",
    "\n",
    "digit_recognizer = random_digit_recognizer(device)"
   ]
  },
  {
   "cell_type": "code",
   "execution_count": 53,
   "metadata": {},
   "outputs": [
    {
     "data": {
      "text/plain": [
       "torch.Size([64, 1, 10])"
      ]
     },
     "execution_count": 53,
     "metadata": {},
     "output_type": "execute_result"
    }
   ],
   "source": [
    "digit_recognizer.eval(train_images[:64]).shape"
   ]
  }
 ],
 "metadata": {
  "kernelspec": {
   "display_name": "default",
   "language": "python",
   "name": "python3"
  },
  "language_info": {
   "codemirror_mode": {
    "name": "ipython",
    "version": 3
   },
   "file_extension": ".py",
   "mimetype": "text/x-python",
   "name": "python",
   "nbconvert_exporter": "python",
   "pygments_lexer": "ipython3",
   "version": "3.13.1"
  }
 },
 "nbformat": 4,
 "nbformat_minor": 2
}
