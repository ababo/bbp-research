{
 "cells": [
  {
   "cell_type": "code",
   "execution_count": null,
   "metadata": {},
   "outputs": [],
   "source": [
    "import os\n",
    "import sys\n",
    "\n",
    "sys.path.append(os.path.abspath(\"../src\"))"
   ]
  },
  {
   "cell_type": "code",
   "execution_count": null,
   "metadata": {},
   "outputs": [],
   "source": [
    "import bitwise\n",
    "from bitwise import bp\n",
    "import torch\n",
    "from typing import List\n",
    "\n",
    "\n",
    "class Model:\n",
    "    _layers: List[bp.Layer]\n",
    "\n",
    "    def __init__(self, layers: List[bp.Layer]):\n",
    "        self._layers = layers\n",
    "\n",
    "    def eval(self, inputs: torch.Tensor) -> bitwise.Tensor:\n",
    "        outputs = inputs\n",
    "        for layer in self._layers:\n",
    "            outputs = layer.eval(outputs)\n",
    "        return outputs\n",
    "\n",
    "    def update(self, errors: bitwise.Tensor):\n",
    "        for i, layer in zip(\n",
    "            range(len(self._layers) - 1, -1, -1), reversed(self._layers)\n",
    "        ):\n",
    "            errors = layer.update(errors)\n",
    "            if torch.all(errors == 0) and i > 0:\n",
    "                print(f\"warning: no error propagated to layer {i}\")\n",
    "                break\n",
    "\n",
    "\n",
    "def untrained_model(layer_widths: List[int], device=\"cpu\") -> Model:\n",
    "    layers = []\n",
    "\n",
    "    for ins, outs in list(zip(layer_widths, layer_widths[1:])):\n",
    "        weights = bitwise.identity_matrix(outs, ins).to(device=device)\n",
    "        bias = torch.randint(\n",
    "            -(2**31), 2**31, (1, (outs + 31) // 32), device=device, dtype=torch.int32\n",
    "        )\n",
    "        layer = bp.Layer(weights, bias, train=True)\n",
    "        layers.append(layer)\n",
    "\n",
    "    return Model(layers)"
   ]
  },
  {
   "cell_type": "code",
   "execution_count": null,
   "metadata": {},
   "outputs": [],
   "source": [
    "import numpy as np\n",
    "from pathlib import Path\n",
    "import torch\n",
    "\n",
    "\n",
    "def read_mnist_images(filename: Path, device: str = \"cpu\") -> torch.Tensor:\n",
    "    with open(filename, \"rb\") as f:\n",
    "        _, num_images, rows, cols = np.frombuffer(f.read(16), dtype=\">u4\")  # Big-endian\n",
    "        images = np.frombuffer(f.read(), dtype=np.uint8).reshape(num_images, rows, cols)\n",
    "    return torch.tensor(images, device=device)\n",
    "\n",
    "\n",
    "def read_mnist_labels(filename: Path, device: str = \"str\") -> torch.Tensor:\n",
    "    with open(filename, \"rb\") as f:\n",
    "        _, _ = np.frombuffer(f.read(8), dtype=\">u4\")  # Big-endian\n",
    "        labels = np.frombuffer(f.read(), dtype=np.uint8)  # Labels are 1-byte each\n",
    "    return torch.tensor(labels, device=device)\n",
    "\n",
    "\n",
    "mnist, device = Path.home() / \"Downloads\" / \"mnist\", \"cpu\"\n",
    "train_images = read_mnist_images(mnist / \"train-images.idx3-ubyte\", device=device)\n",
    "train_labels = read_mnist_labels(mnist / \"train-labels.idx1-ubyte\", device=device)\n",
    "test_images = read_mnist_images(mnist / \"t10k-images.idx3-ubyte\", device=device)\n",
    "test_labels = read_mnist_labels(mnist / \"t10k-labels.idx1-ubyte\", device=device)\n"
   ]
  },
  {
   "cell_type": "code",
   "execution_count": null,
   "metadata": {},
   "outputs": [],
   "source": [
    "import bitwise\n",
    "from torch.nn import functional as F\n",
    "\n",
    "def class_probs(outputs: bitwise.Tensor) -> torch.Tensor:\n",
    "    bit_counts = bitwise.bit_count_map(outputs).squeeze(dim=-2)\n",
    "    return F.softmax(bit_counts.to(dtype=torch.float32), dim=1)\n",
    "\n",
    "def class_loss(outputs: bitwise.Tensor, labels: torch.Tensor) -> float:\n",
    "    bit_counts = bitwise.bit_count_map(outputs).squeeze(dim=-2)\n",
    "    return F.cross_entropy(bit_counts.to(dtype=torch.float32), labels).item()\n",
    "\n",
    "def output_errors(outputs: bitwise.Tensor, labels: torch.Tensor) -> bitwise.Tensor:\n",
    "    expected = (\n",
    "        F.one_hot(labels.to(dtype=torch.long), num_classes=10)\n",
    "        .to(dtype=torch.int32)\n",
    "        .unsqueeze_(1)\n",
    "        * -1\n",
    "    )\n",
    "    return expected.bitwise_xor_(outputs)"
   ]
  },
  {
   "cell_type": "code",
   "execution_count": null,
   "metadata": {},
   "outputs": [],
   "source": [
    "model = untrained_model([28*28*8, 4096, 2048, 1024, 10*32])"
   ]
  },
  {
   "cell_type": "code",
   "execution_count": null,
   "metadata": {},
   "outputs": [],
   "source": [
    "from torch.utils.data import DataLoader, TensorDataset\n",
    "\n",
    "batch_size = 16\n",
    "train_dataset = TensorDataset(train_images, train_labels)\n",
    "train_dataloader = DataLoader(train_dataset, batch_size=batch_size, shuffle=True)\n",
    "for (images, labels) in train_dataloader:\n",
    "    inputs = images.view(batch_size, 1, 28*28).view(torch.int32)\n",
    "    outputs = model.eval(inputs)\n",
    "    errors = output_errors(outputs, labels)\n",
    "    model.update(errors)\n",
    "    outputs2 = model.eval(inputs)\n",
    "    print(f\"{class_loss(outputs, labels)} -> {class_loss(outputs2, labels)}\")"
   ]
  },
  {
   "cell_type": "code",
   "execution_count": null,
   "metadata": {},
   "outputs": [],
   "source": [
    "inputs = test_images.view(len(test_images), 1, 28*28).view(torch.int32)\n",
    "outputs = model.eval(inputs)\n",
    "predicted = class_probs(outputs).argmax(dim=-1)\n",
    "correct = (predicted == test_labels).sum()\n",
    "print(f\"accuracy {correct/len(predicted)}\")"
   ]
  },
  {
   "cell_type": "code",
   "execution_count": null,
   "metadata": {},
   "outputs": [],
   "source": [
    "0.5835999846458435"
   ]
  }
 ],
 "metadata": {
  "kernelspec": {
   "display_name": "default",
   "language": "python",
   "name": "python3"
  },
  "language_info": {
   "codemirror_mode": {
    "name": "ipython",
    "version": 3
   },
   "file_extension": ".py",
   "mimetype": "text/x-python",
   "name": "python",
   "nbconvert_exporter": "python",
   "pygments_lexer": "ipython3",
   "version": "3.13.1"
  }
 },
 "nbformat": 4,
 "nbformat_minor": 2
}
